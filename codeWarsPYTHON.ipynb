{
 "cells": [
  {
   "cell_type": "code",
   "execution_count": 36,
   "metadata": {},
   "outputs": [],
   "source": [
    "import numpy as np;"
   ]
  },
  {
   "cell_type": "markdown",
   "metadata": {},
   "source": [
    "# 1. kata 1 [incomplete]\n"
   ]
  },
  {
   "cell_type": "markdown",
   "metadata": {},
   "source": [
    "Please write a function that sums a list, but ignores any duplicate items in the list.\n",
    "\n",
    "For instance, for the list [3, 4, 3, 6] , the function should return 10.\n"
   ]
  },
  {
   "cell_type": "code",
   "execution_count": 4,
   "metadata": {},
   "outputs": [],
   "source": [
    "def sum_no_duplicates(l):\n",
    "    duplicateList = []\n",
    "\n",
    "    for i in l:\n",
    "        if i not in duplicateList:\n",
    "            duplicateList.append(i)\n",
    "    for i in duplicateList:\n",
    "        l.remove(i)\n",
    "    return np.sum(l)\n"
   ]
  },
  {
   "cell_type": "markdown",
   "metadata": {},
   "source": [
    "# 2. kata 2\n"
   ]
  },
  {
   "cell_type": "markdown",
   "metadata": {},
   "source": [
    "Complete the solution so that it splits the string into pairs of two characters. If the string contains an odd number of characters then it should replace the missing second character of the final pair with an underscore ('\\_').\n"
   ]
  },
  {
   "cell_type": "code",
   "execution_count": 44,
   "metadata": {},
   "outputs": [],
   "source": [
    "# setup the list\n",
    "def solution(s):\n",
    "    answer = []\n",
    "    for idx, char in enumerate(s):\n",
    "        if idx % 2 == 0:\n",
    "            try:\n",
    "                answer.append(char + s[idx+1])\n",
    "\n",
    "            except IndexError:\n",
    "                answer.append(char + '_')\n",
    "    return answer\n",
    "\n",
    "# s = 'abcde'\n",
    "# solution(s)"
   ]
  },
  {
   "cell_type": "markdown",
   "metadata": {},
   "source": [
    "# 3. kata 3"
   ]
  },
  {
   "cell_type": "markdown",
   "metadata": {},
   "source": [
    "Given two integers a and b, which can be positive or negative, find the sum of all the integers between and including them and return it. If the two numbers are equal return a or b.\n",
    "\n",
    "Note: a and b are not ordered!"
   ]
  },
  {
   "cell_type": "code",
   "execution_count": 91,
   "metadata": {},
   "outputs": [],
   "source": [
    "def get_sum(a, b):\n",
    "    print(\"a: {}  b: {}\".format(a, b))\n",
    "    sum = 0\n",
    "    if a != b and a<b:\n",
    "        for i in range(a, b+1):\n",
    "            sum += i\n",
    "        return sum\n",
    "    elif a != b and a>b:\n",
    "        for i in range(b, a+1):\n",
    "            sum += i\n",
    "        return sum\n",
    "    else:\n",
    "        return a\n",
    "\n",
    "# a = -1\n",
    "# b = 5\n",
    "# get_sum(a, b)\n",
    "\n",
    "# some amazing model answer\n",
    "# 1) def get_sum(a,b):\n",
    "#     return sum(range(min(a, b), max(a, b) + 1))\n",
    "\n",
    "# 2) def get_sum(a, b):\n",
    "#     return (a + b) * (abs(a - b) + 1) // 2"
   ]
  },
  {
   "cell_type": "markdown",
   "metadata": {},
   "source": [
    "# 4. kata 4"
   ]
  },
  {
   "cell_type": "markdown",
   "metadata": {},
   "source": [
    "Take 2 strings s1 and s2 including only letters from a to z. Return a new sorted string, the longest possible, containing distinct letters - each taken only once - coming from s1 or s2."
   ]
  },
  {
   "cell_type": "code",
   "execution_count": 32,
   "metadata": {},
   "outputs": [],
   "source": [
    "def longest(a1, a2):\n",
    "    a1 = \"\".join(sorted(dict.fromkeys(a1)))\n",
    "    a2 = \"\".join(sorted(dict.fromkeys(a2)))\n",
    "\n",
    "    # run through both and check if one matches the other, if not then ignore and then move on and finally sort at the end ??\n",
    "    for elem_a1 in a1:\n",
    "        for elem_a2 in a2:\n",
    "            if (elem_a1 == elem_a2):\n",
    "                a2 = a2.replace(elem_a2, \"\")\n",
    "            else:\n",
    "                continue\n",
    "    return \"\".join(sorted(a1+a2))\n",
    "\n",
    "# longest(a1=\"abcdefghijklmnopqrstuvwxyz\", a2=\"abcdefghijklmnopqrstuvwxyz\")\n",
    "# amazing model answers from codeWars: \n",
    "# def longest(a1, a2):\n",
    "#     return \"\".join(sorted(set(a1 + a2)))"
   ]
  },
  {
   "cell_type": "markdown",
   "metadata": {},
   "source": [
    "# 5. kata 5"
   ]
  },
  {
   "cell_type": "markdown",
   "metadata": {},
   "source": [
    "There is an array with some numbers. All numbers are equal except for one. Try to find it!\n",
    "\n",
    "find_uniq([ 1, 1, 1, 2, 1, 1 ]) == 2\n",
    "find_uniq([ 0, 0, 0.55, 0, 0 ]) == 0.55\n",
    "It’s guaranteed that array contains at least 3 numbers.\n",
    "\n",
    "The tests contain some very huge arrays, so think about performance."
   ]
  },
  {
   "cell_type": "code",
   "execution_count": 43,
   "metadata": {},
   "outputs": [],
   "source": [
    "def find_uniq(arr):\n",
    "    main_dict = {}\n",
    "    for i in arr:\n",
    "        if i in main_dict:\n",
    "            main_dict[i] += 1\n",
    "        else:\n",
    "            main_dict[i] = 1\n",
    "    return [key for key, value in main_dict.items()\n",
    "            if value == min(main_dict.values())]\n",
    "\n",
    "# some great model answers from codewars\n",
    "# 1) def find_uniq(arr):\n",
    "#         a, b = set(arr)\n",
    "#         return a if arr.count(a) == 1 else b"
   ]
  },
  {
   "cell_type": "markdown",
   "metadata": {},
   "source": [
    "# 6. kata 6"
   ]
  },
  {
   "cell_type": "markdown",
   "metadata": {},
   "source": [
    "Write a function that takes in a string of one or more words, and returns the same string, but with all five or more letter words reversed (Just like the name of this Kata). Strings passed in will consist of only letters and spaces. Spaces will be included only when more than one word is present.\n",
    "\n",
    "* spinWords( \"Hey fellow warriors\" ) => returns \"Hey wollef sroirraw\" \n",
    "* spinWords( \"This is a test\") => returns \"This is a test\" \n",
    "* spinWords( \"This is another test\" )=> returns \"This is rehtona test\""
   ]
  },
  {
   "cell_type": "code",
   "execution_count": 118,
   "metadata": {},
   "outputs": [],
   "source": [
    "def spin_words(sentence):\n",
    "    def reverseString(strIn):\n",
    "        reverse = \"\"\n",
    "        for i in range(len(strIn) - 1, -1, -1):\n",
    "            reverse = reverse + str(strIn[i])\n",
    "        return reverse\n",
    "    answer=[]\n",
    "    for words in sentence.split(' '):\n",
    "        if len(words) > 4:\n",
    "            answer.append(reverseString(words))\n",
    "        else:\n",
    "            answer.append(words)\n",
    "            continue\n",
    "    if len(answer) < 1:\n",
    "        return answer\n",
    "    else:\n",
    "        return \" \".join(answer)\n",
    "\n",
    "#spin_words(\"Hey fellahs warriors\")\n",
    "# spin_words(\"Kata in letter of words that string Kata only a one the and words consist passed more when a\")\n",
    "\n",
    "# some amazing model answers in codewars\n",
    "# 1) def spin_words(sentence):\n",
    "#     # Your code goes here\n",
    "#     return \" \".join([x[::-1] if len(x) >= 5 else x for x in sentence.split(\" \")])\n",
    "# 2) def spin_words(sentence):\n",
    "#     words = [word for word in sentence.split(\" \")]\n",
    "#     words = [word if len(word) < 5 else word[::-1] for word in words]\n",
    "#     return \" \".join(words)\n"
   ]
  },
  {
   "cell_type": "markdown",
   "metadata": {},
   "source": [
    "# 7. kata 7"
   ]
  },
  {
   "cell_type": "markdown",
   "metadata": {},
   "source": [
    "Easy squeezy ! just remove the vowels from a sentence "
   ]
  },
  {
   "cell_type": "code",
   "execution_count": 126,
   "metadata": {},
   "outputs": [],
   "source": [
    "def disemvowel(string_):\n",
    "    string_ = \"\".join(string_)\n",
    "    vowels = [\"a\", \"e\", \"i\", \"o\", \"u\"]\n",
    "\n",
    "    for str in string_:\n",
    "        if str.lower() in vowels:\n",
    "            string_ = string_.replace(str, '')\n",
    "    return string_\n",
    "\n",
    "# some great model answers\n",
    "# 1) def disemvowel(string):\n",
    "#     return \"\".join(c for c in string if c.lower() not in \"aeiou\")\n",
    "\n",
    "# 2) def disemvowel(s):\n",
    "#     for i in \"aeiouAEIOU\":\n",
    "#         s = s.replace(i,'')\n",
    "#     return s"
   ]
  },
  {
   "cell_type": "markdown",
   "metadata": {},
   "source": [
    "# 8. kata 8"
   ]
  },
  {
   "cell_type": "markdown",
   "metadata": {},
   "source": [
    "A pangram is a sentence that contains every single letter of the alphabet at least once. For example, the sentence \"The quick brown fox jumps over the lazy dog\" is a pangram, because it uses the letters A-Z at least once (case is irrelevant).\n",
    "\n",
    "Given a string, detect whether or not it is a pangram. Return True if it is, False if not. Ignore numbers and punctuation."
   ]
  },
  {
   "cell_type": "code",
   "execution_count": null,
   "metadata": {},
   "outputs": [],
   "source": [
    "s = "
   ]
  },
  {
   "cell_type": "code",
   "execution_count": null,
   "metadata": {},
   "outputs": [],
   "source": [
    "def is_pangram(s):\n",
    "    return False"
   ]
  },
  {
   "cell_type": "code",
   "execution_count": null,
   "metadata": {},
   "outputs": [],
   "source": []
  },
  {
   "cell_type": "code",
   "execution_count": null,
   "metadata": {},
   "outputs": [],
   "source": []
  },
  {
   "cell_type": "code",
   "execution_count": null,
   "metadata": {},
   "outputs": [],
   "source": []
  }
 ],
 "metadata": {
  "kernelspec": {
   "display_name": "Python 3.7.13 ('airdmp')",
   "language": "python",
   "name": "python3"
  },
  "language_info": {
   "codemirror_mode": {
    "name": "ipython",
    "version": 3
   },
   "file_extension": ".py",
   "mimetype": "text/x-python",
   "name": "python",
   "nbconvert_exporter": "python",
   "pygments_lexer": "ipython3",
   "version": "3.7.13"
  },
  "orig_nbformat": 4,
  "vscode": {
   "interpreter": {
    "hash": "46023ec0b3ecb714f46a2d6e1e1ba24872d42b73eaf20db8f5bb7eb827942a1a"
   }
  }
 },
 "nbformat": 4,
 "nbformat_minor": 2
}
