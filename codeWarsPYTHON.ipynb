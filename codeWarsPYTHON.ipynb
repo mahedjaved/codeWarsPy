{
 "cells": [
  {
   "cell_type": "code",
   "execution_count": 3,
   "metadata": {},
   "outputs": [],
   "source": [
    "import numpy as np"
   ]
  },
  {
   "cell_type": "markdown",
   "metadata": {},
   "source": [
    "# 1. kata 1 [incomplete]\n"
   ]
  },
  {
   "cell_type": "markdown",
   "metadata": {},
   "source": [
    "Please write a function that sums a list, but ignores any duplicate items in the list.\n",
    "\n",
    "For instance, for the list [3, 4, 3, 6] , the function should return 10.\n"
   ]
  },
  {
   "cell_type": "code",
   "execution_count": 4,
   "metadata": {},
   "outputs": [],
   "source": [
    "def sum_no_duplicates(l):\n",
    "    duplicateList = []\n",
    "\n",
    "    for i in l:\n",
    "        if i not in duplicateList:\n",
    "            duplicateList.append(i)\n",
    "    for i in duplicateList:\n",
    "        l.remove(i)\n",
    "    return np.sum(l)\n"
   ]
  },
  {
   "cell_type": "markdown",
   "metadata": {},
   "source": [
    "# 2. kata 2\n"
   ]
  },
  {
   "cell_type": "markdown",
   "metadata": {},
   "source": [
    "Complete the solution so that it splits the string into pairs of two characters. If the string contains an odd number of characters then it should replace the missing second character of the final pair with an underscore ('\\_').\n"
   ]
  },
  {
   "cell_type": "code",
   "execution_count": 44,
   "metadata": {},
   "outputs": [],
   "source": [
    "# setup the list\n",
    "def solution(s):\n",
    "    answer = []\n",
    "    for idx, char in enumerate(s):\n",
    "        if idx % 2 == 0:\n",
    "            try:\n",
    "                answer.append(char + s[idx+1])\n",
    "\n",
    "            except IndexError:\n",
    "                answer.append(char + '_')\n",
    "    return answer\n",
    "\n",
    "# s = 'abcde'\n",
    "# solution(s)"
   ]
  },
  {
   "cell_type": "markdown",
   "metadata": {},
   "source": [
    "# 3. kata 3"
   ]
  },
  {
   "cell_type": "markdown",
   "metadata": {},
   "source": [
    "Given two integers a and b, which can be positive or negative, find the sum of all the integers between and including them and return it. If the two numbers are equal return a or b.\n",
    "\n",
    "Note: a and b are not ordered!"
   ]
  },
  {
   "cell_type": "code",
   "execution_count": 91,
   "metadata": {},
   "outputs": [],
   "source": [
    "def get_sum(a, b):\n",
    "    print(\"a: {}  b: {}\".format(a, b))\n",
    "    sum = 0\n",
    "    if a != b and a<b:\n",
    "        for i in range(a, b+1):\n",
    "            sum += i\n",
    "        return sum\n",
    "    elif a != b and a>b:\n",
    "        for i in range(b, a+1):\n",
    "            sum += i\n",
    "        return sum\n",
    "    else:\n",
    "        return a\n",
    "\n",
    "# a = -1\n",
    "# b = 5\n",
    "# get_sum(a, b)\n",
    "\n",
    "# some amazing model answer\n",
    "# 1) def get_sum(a,b):\n",
    "#     return sum(range(min(a, b), max(a, b) + 1))\n",
    "\n",
    "# 2) def get_sum(a, b):\n",
    "#     return (a + b) * (abs(a - b) + 1) // 2"
   ]
  },
  {
   "cell_type": "markdown",
   "metadata": {},
   "source": [
    "# 4. kata 4"
   ]
  },
  {
   "cell_type": "markdown",
   "metadata": {},
   "source": [
    "Take 2 strings s1 and s2 including only letters from a to z. Return a new sorted string, the longest possible, containing distinct letters - each taken only once - coming from s1 or s2."
   ]
  },
  {
   "cell_type": "code",
   "execution_count": 32,
   "metadata": {},
   "outputs": [],
   "source": [
    "def longest(a1, a2):\n",
    "    a1 = \"\".join(sorted(dict.fromkeys(a1)))\n",
    "    a2 = \"\".join(sorted(dict.fromkeys(a2)))\n",
    "\n",
    "    # run through both and check if one matches the other, if not then ignore and then move on and finally sort at the end ??\n",
    "    for elem_a1 in a1:\n",
    "        for elem_a2 in a2:\n",
    "            if (elem_a1 == elem_a2):\n",
    "                a2 = a2.replace(elem_a2, \"\")\n",
    "            else:\n",
    "                continue\n",
    "    return \"\".join(sorted(a1+a2))\n",
    "\n",
    "# longest(a1=\"abcdefghijklmnopqrstuvwxyz\", a2=\"abcdefghijklmnopqrstuvwxyz\")\n",
    "# amazing model answers from codeWars: \n",
    "# def longest(a1, a2):\n",
    "#     return \"\".join(sorted(set(a1 + a2)))"
   ]
  },
  {
   "cell_type": "markdown",
   "metadata": {},
   "source": [
    "# 5. kata 5"
   ]
  },
  {
   "cell_type": "markdown",
   "metadata": {},
   "source": [
    "There is an array with some numbers. All numbers are equal except for one. Try to find it!\n",
    "\n",
    "find_uniq([ 1, 1, 1, 2, 1, 1 ]) == 2\n",
    "find_uniq([ 0, 0, 0.55, 0, 0 ]) == 0.55\n",
    "It’s guaranteed that array contains at least 3 numbers.\n",
    "\n",
    "The tests contain some very huge arrays, so think about performance."
   ]
  },
  {
   "cell_type": "code",
   "execution_count": 43,
   "metadata": {},
   "outputs": [],
   "source": [
    "def find_uniq(arr):\n",
    "    main_dict = {}\n",
    "    for i in arr:\n",
    "        if i in main_dict:\n",
    "            main_dict[i] += 1\n",
    "        else:\n",
    "            main_dict[i] = 1\n",
    "    return [key for key, value in main_dict.items()\n",
    "            if value == min(main_dict.values())]\n",
    "\n",
    "# some great model answers from codewars\n",
    "# 1) def find_uniq(arr):\n",
    "#         a, b = set(arr)\n",
    "#         return a if arr.count(a) == 1 else b"
   ]
  },
  {
   "cell_type": "markdown",
   "metadata": {},
   "source": [
    "# 6. kata 6"
   ]
  },
  {
   "cell_type": "markdown",
   "metadata": {},
   "source": [
    "Write a function that takes in a string of one or more words, and returns the same string, but with all five or more letter words reversed (Just like the name of this Kata). Strings passed in will consist of only letters and spaces. Spaces will be included only when more than one word is present.\n",
    "\n",
    "* spinWords( \"Hey fellow warriors\" ) => returns \"Hey wollef sroirraw\" \n",
    "* spinWords( \"This is a test\") => returns \"This is a test\" \n",
    "* spinWords( \"This is another test\" )=> returns \"This is rehtona test\""
   ]
  },
  {
   "cell_type": "code",
   "execution_count": 118,
   "metadata": {},
   "outputs": [],
   "source": [
    "def spin_words(sentence):\n",
    "    def reverseString(strIn):\n",
    "        reverse = \"\"\n",
    "        for i in range(len(strIn) - 1, -1, -1):\n",
    "            reverse = reverse + str(strIn[i])\n",
    "        return reverse\n",
    "    answer=[]\n",
    "    for words in sentence.split(' '):\n",
    "        if len(words) > 4:\n",
    "            answer.append(reverseString(words))\n",
    "        else:\n",
    "            answer.append(words)\n",
    "            continue\n",
    "    if len(answer) < 1:\n",
    "        return answer\n",
    "    else:\n",
    "        return \" \".join(answer)\n",
    "\n",
    "#spin_words(\"Hey fellahs warriors\")\n",
    "# spin_words(\"Kata in letter of words that string Kata only a one the and words consist passed more when a\")\n",
    "\n",
    "# some amazing model answers in codewars\n",
    "# 1) def spin_words(sentence):\n",
    "#     # Your code goes here\n",
    "#     return \" \".join([x[::-1] if len(x) >= 5 else x for x in sentence.split(\" \")])\n",
    "# 2) def spin_words(sentence):\n",
    "#     words = [word for word in sentence.split(\" \")]\n",
    "#     words = [word if len(word) < 5 else word[::-1] for word in words]\n",
    "#     return \" \".join(words)\n"
   ]
  },
  {
   "cell_type": "markdown",
   "metadata": {},
   "source": [
    "# 7. kata 7"
   ]
  },
  {
   "cell_type": "markdown",
   "metadata": {},
   "source": [
    "Easy squeezy ! just remove the vowels from a sentence "
   ]
  },
  {
   "cell_type": "code",
   "execution_count": 126,
   "metadata": {},
   "outputs": [],
   "source": [
    "def disemvowel(string_):\n",
    "    string_ = \"\".join(string_)\n",
    "    vowels = [\"a\", \"e\", \"i\", \"o\", \"u\"]\n",
    "\n",
    "    for str in string_:\n",
    "        if str.lower() in vowels:\n",
    "            string_ = string_.replace(str, '')\n",
    "    return string_\n",
    "\n",
    "# some great model answers\n",
    "# 1) def disemvowel(string):\n",
    "#     return \"\".join(c for c in string if c.lower() not in \"aeiou\")\n",
    "\n",
    "# 2) def disemvowel(s):\n",
    "#     for i in \"aeiouAEIOU\":\n",
    "#         s = s.replace(i,'')\n",
    "#     return s"
   ]
  },
  {
   "cell_type": "markdown",
   "metadata": {},
   "source": [
    "# 8. kata 8"
   ]
  },
  {
   "cell_type": "markdown",
   "metadata": {},
   "source": [
    "A pangram is a sentence that contains every single letter of the alphabet at least once. For example, the sentence \"The quick brown fox jumps over the lazy dog\" is a pangram, because it uses the letters A-Z at least once (case is irrelevant).\n",
    "\n",
    "Given a string, detect whether or not it is a pangram. Return True if it is, False if not. Ignore numbers and punctuation."
   ]
  },
  {
   "cell_type": "code",
   "execution_count": 95,
   "metadata": {},
   "outputs": [],
   "source": [
    "def is_pangram(s):\n",
    "\n",
    "    def removeSpecChar(input_string):\n",
    "        # func for removing special characters\n",
    "        final_string = \"\"  # define string for ouput\n",
    "        for character in input_string:\n",
    "            if character.isalnum() and not character.isdigit():\n",
    "                # if character is alphanumeric concat to final_string\n",
    "                final_string = final_string + character\n",
    "        return final_string\n",
    "\n",
    "    def initialise():\n",
    "        # setup dictionary for inspection\n",
    "        return {\n",
    "            \"a\": False,\n",
    "            \"b\": False,\n",
    "            \"c\": False,\n",
    "            \"d\": False,\n",
    "            \"e\": False,\n",
    "            \"f\": False,\n",
    "            \"g\": False,\n",
    "            \"h\": False,\n",
    "            \"i\": False,\n",
    "            \"j\": False,\n",
    "            \"k\": False,\n",
    "            \"l\": False,\n",
    "            \"m\": False,\n",
    "            \"n\": False,\n",
    "            \"o\": False,\n",
    "            \"p\": False,\n",
    "            \"q\": False,\n",
    "            \"r\": False,\n",
    "            \"s\": False,\n",
    "            \"t\": False,\n",
    "            \"u\": False,\n",
    "            \"v\": False,\n",
    "            \"w\": False,\n",
    "            \"x\": False,\n",
    "            \"y\": False,\n",
    "            \"z\": False\n",
    "        }\n",
    "\n",
    "    s = s.replace(\" \", \"\")\n",
    "    print(s)\n",
    "    s = removeSpecChar(s)\n",
    "    print(s)\n",
    "    checkDict = initialise()\n",
    "    for word in s:\n",
    "        # step 1) find the value of the word in s\n",
    "        # step 2) if it is false, set to true\n",
    "        # step 3) else continue\n",
    "        if checkDict[word.lower()] == False:\n",
    "            checkDict[word.lower()] = True\n",
    "        else:\n",
    "            continue\n",
    "    if False in checkDict.values():\n",
    "        print(\"The string is not anagram\")\n",
    "        return False\n",
    "    else:\n",
    "        print(\"yes it is an anagram\")\n",
    "        return True\n"
   ]
  },
  {
   "cell_type": "code",
   "execution_count": 100,
   "metadata": {},
   "outputs": [],
   "source": [
    "# Testing situations\n",
    "# is_pangram(\"12bcdefghijklmnopqrstuvwxyz\")\n",
    "# is_pangram(\"The quick,!brown fox jumps over the lazy dog\") \n",
    "\n",
    "# # other possible solutions for questions\n",
    "# import string\n",
    "\n",
    "# def is_pangram(s):\n",
    "#     s = s.lower()\n",
    "#     for char in 'abcdefghijklmnopqrstuvwxyz':\n",
    "#         if char not in s:\n",
    "#             return False\n",
    "#     return True\n",
    "\n",
    "# import string\n",
    "\n",
    "# def is_pangram(s):\n",
    "#     return set(string.ascii_lowercase).issubset(s.lower())\n",
    "\n",
    "# import string\n",
    "\n",
    "# def is_pangram(s):\n",
    "#     s = s.lower()\n",
    "#     for token in string.ascii_lowercase:\n",
    "#         if token not in s:\n",
    "#             return False\n",
    "#     return True\n",
    "\n",
    "# def is_pangram(s):\n",
    "#     return True if set('abcdefghijklmnopqrstuvwxyz').issubset(set(s.lower())) else False"
   ]
  },
  {
   "cell_type": "markdown",
   "metadata": {},
   "source": [
    "# 9. kata 9 [unfinished until moved to medion]"
   ]
  },
  {
   "cell_type": "markdown",
   "metadata": {},
   "source": [
    "* The bottom most pile have volume \n",
    "\n",
    "$$ V_{\\text{bottom}} = n^3 $$"
   ]
  },
  {
   "cell_type": "markdown",
   "metadata": {},
   "source": [
    "* The cube above the bottom pile have volume\n",
    "\n",
    "$$ V_{\\text{bottomUp}} = (n-1)^3 $$"
   ]
  },
  {
   "cell_type": "markdown",
   "metadata": {},
   "source": [
    "* The topmost pile of cubes have volume\n",
    "\n",
    "$$ V_{\\text{top}} = 1^3 = 1 $$"
   ]
  },
  {
   "cell_type": "markdown",
   "metadata": {},
   "source": [
    "* Now you are given total volume $m$ of the building, so $m$ = size of total building\n",
    "\n",
    "* Now given $m$ find $n$ that is the number of cubes needed to build the building\n",
    "\n",
    "* The parameter of the function findNb (find_nb, find-nb, findNb, ...) will be an integer m and you have to return the integer $n$\n",
    "\n",
    "* Such that we have the following: \n",
    "\n",
    "$$ n^3 + (n-1)^3 + ... + 1^3 = m $$ \n",
    "\n",
    "* if such a $n$ exists or $-1$ if there is no such $n$"
   ]
  },
  {
   "cell_type": "markdown",
   "metadata": {},
   "source": [
    "\n",
    "Examples:\n",
    "findNb(1071225) --> 45\n",
    "\n",
    "findNb(91716553919377) --> -1"
   ]
  },
  {
   "cell_type": "code",
   "execution_count": null,
   "metadata": {},
   "outputs": [],
   "source": [
    "# keep looping through the equation until you get m=1\n",
    "m = 1071225\n",
    "\n",
    "bottom_floor = "
   ]
  },
  {
   "cell_type": "code",
   "execution_count": 6,
   "metadata": {},
   "outputs": [
    {
     "data": {
      "text/plain": [
       "1071224"
      ]
     },
     "execution_count": 6,
     "metadata": {},
     "output_type": "execute_result"
    }
   ],
   "source": [
    "(1071225 - 1) "
   ]
  },
  {
   "cell_type": "code",
   "execution_count": 7,
   "metadata": {},
   "outputs": [
    {
     "data": {
      "text/plain": [
       "1"
      ]
     },
     "execution_count": 7,
     "metadata": {},
     "output_type": "execute_result"
    }
   ],
   "source": [
    "45 ^ 3 + (45-1) ^ 3\n"
   ]
  },
  {
   "cell_type": "code",
   "execution_count": null,
   "metadata": {},
   "outputs": [],
   "source": [
    "def find_nb(m):\n",
    "    # your code\n"
   ]
  },
  {
   "cell_type": "markdown",
   "metadata": {},
   "source": [
    "# 10. kata 10"
   ]
  },
  {
   "cell_type": "markdown",
   "metadata": {},
   "source": [
    "Write an algorithm that takes an array and moves all of the zeros to the end, preserving the order of the other elements."
   ]
  },
  {
   "cell_type": "code",
   "execution_count": 47,
   "metadata": {},
   "outputs": [],
   "source": [
    "def move_zeros(lst):\n",
    "    zero_counter = 0\n",
    "    while (0 in lst):\n",
    "        lst.pop(lst.index(0))\n",
    "        zero_counter += 1\n",
    "    for _ in range(zero_counter):\n",
    "        lst.append(0)\n",
    "\n",
    "    return lst\n",
    "\n",
    "# some amazing answers with lambda functions on codeWars\n",
    "# def move_zeros(array):\n",
    "#     return sorted(array, key=lambda x: x==0 and type(x) is not bool)\n",
    "# some unreadable solutions\n",
    "# def move_zeros(arr):\n",
    "#     l = [i for i in arr if isinstance(i, bool) or i!=0]\n",
    "#     return l+[0]*(len(arr)-len(l))\n",
    "# a really bad one\n",
    "# def move_zeros(array):\n",
    "#      return [a for a in array if isinstance(a, bool) or a != 0] + [a for a in array if not isinstance(a, bool) and a == 0]\n",
    "# finally some readable ones\n",
    "# def move_zeros(a):\n",
    "#     a.sort(key=lambda v: v == 0)\n",
    "#     return a\n"
   ]
  },
  {
   "cell_type": "markdown",
   "metadata": {},
   "source": [
    "# 11. kata 11"
   ]
  },
  {
   "cell_type": "code",
   "execution_count": null,
   "metadata": {},
   "outputs": [],
   "source": []
  }
 ],
 "metadata": {
  "kernelspec": {
   "display_name": "Python 3.7.13 ('airdmp')",
   "language": "python",
   "name": "python3"
  },
  "language_info": {
   "codemirror_mode": {
    "name": "ipython",
    "version": 3
   },
   "file_extension": ".py",
   "mimetype": "text/x-python",
   "name": "python",
   "nbconvert_exporter": "python",
   "pygments_lexer": "ipython3",
   "version": "3.7.13"
  },
  "orig_nbformat": 4,
  "vscode": {
   "interpreter": {
    "hash": "46023ec0b3ecb714f46a2d6e1e1ba24872d42b73eaf20db8f5bb7eb827942a1a"
   }
  }
 },
 "nbformat": 4,
 "nbformat_minor": 2
}
