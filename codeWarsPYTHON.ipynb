{
 "cells": [
  {
   "cell_type": "code",
   "execution_count": 1,
   "metadata": {},
   "outputs": [],
   "source": [
    "import numpy as np\n",
    "from matplotlib import pyplot as plt\n"
   ]
  },
  {
   "cell_type": "markdown",
   "metadata": {},
   "source": [
    "# 1. kata 1 [incomplete]\n"
   ]
  },
  {
   "cell_type": "markdown",
   "metadata": {},
   "source": [
    "Please write a function that sums a list, but ignores any duplicate items in the list.\n",
    "\n",
    "For instance, for the list [3, 4, 3, 6] , the function should return 10.\n"
   ]
  },
  {
   "cell_type": "code",
   "execution_count": 4,
   "metadata": {},
   "outputs": [],
   "source": [
    "def sum_no_duplicates(l):\n",
    "    duplicateList = []\n",
    "\n",
    "    for i in l:\n",
    "        if i not in duplicateList:\n",
    "            duplicateList.append(i)\n",
    "    for i in duplicateList:\n",
    "        l.remove(i)\n",
    "    return np.sum(l)\n"
   ]
  },
  {
   "cell_type": "markdown",
   "metadata": {},
   "source": [
    "# 2. kata 2\n"
   ]
  },
  {
   "cell_type": "markdown",
   "metadata": {},
   "source": [
    "Complete the solution so that it splits the string into pairs of two characters. If the string contains an odd number of characters then it should replace the missing second character of the final pair with an underscore ('\\_').\n"
   ]
  },
  {
   "cell_type": "code",
   "execution_count": 44,
   "metadata": {},
   "outputs": [],
   "source": [
    "# setup the list\n",
    "def solution(s):\n",
    "    answer = []\n",
    "    for idx, char in enumerate(s):\n",
    "        if idx % 2 == 0:\n",
    "            try:\n",
    "                answer.append(char + s[idx+1])\n",
    "\n",
    "            except IndexError:\n",
    "                answer.append(char + '_')\n",
    "    return answer\n",
    "\n",
    "# s = 'abcde'\n",
    "# solution(s)"
   ]
  },
  {
   "cell_type": "markdown",
   "metadata": {},
   "source": [
    "# 3. kata 3"
   ]
  },
  {
   "cell_type": "markdown",
   "metadata": {},
   "source": [
    "Given two integers a and b, which can be positive or negative, find the sum of all the integers between and including them and return it. If the two numbers are equal return a or b.\n",
    "\n",
    "Note: a and b are not ordered!"
   ]
  },
  {
   "cell_type": "code",
   "execution_count": 91,
   "metadata": {},
   "outputs": [],
   "source": [
    "def get_sum(a, b):\n",
    "    print(\"a: {}  b: {}\".format(a, b))\n",
    "    sum = 0\n",
    "    if a != b and a<b:\n",
    "        for i in range(a, b+1):\n",
    "            sum += i\n",
    "        return sum\n",
    "    elif a != b and a>b:\n",
    "        for i in range(b, a+1):\n",
    "            sum += i\n",
    "        return sum\n",
    "    else:\n",
    "        return a\n",
    "\n",
    "# a = -1\n",
    "# b = 5\n",
    "# get_sum(a, b)\n",
    "\n",
    "# some amazing model answer\n",
    "# 1) def get_sum(a,b):\n",
    "#     return sum(range(min(a, b), max(a, b) + 1))\n",
    "\n",
    "# 2) def get_sum(a, b):\n",
    "#     return (a + b) * (abs(a - b) + 1) // 2"
   ]
  },
  {
   "cell_type": "markdown",
   "metadata": {},
   "source": [
    "# 4. kata 4"
   ]
  },
  {
   "cell_type": "markdown",
   "metadata": {},
   "source": [
    "Take 2 strings s1 and s2 including only letters from a to z. Return a new sorted string, the longest possible, containing distinct letters - each taken only once - coming from s1 or s2."
   ]
  },
  {
   "cell_type": "code",
   "execution_count": null,
   "metadata": {},
   "outputs": [],
   "source": []
  },
  {
   "cell_type": "code",
   "execution_count": null,
   "metadata": {},
   "outputs": [],
   "source": []
  }
 ],
 "metadata": {
  "kernelspec": {
   "display_name": "Python 3.7.13 ('airdmp')",
   "language": "python",
   "name": "python3"
  },
  "language_info": {
   "codemirror_mode": {
    "name": "ipython",
    "version": 3
   },
   "file_extension": ".py",
   "mimetype": "text/x-python",
   "name": "python",
   "nbconvert_exporter": "python",
   "pygments_lexer": "ipython3",
   "version": "3.7.13"
  },
  "orig_nbformat": 4,
  "vscode": {
   "interpreter": {
    "hash": "46023ec0b3ecb714f46a2d6e1e1ba24872d42b73eaf20db8f5bb7eb827942a1a"
   }
  }
 },
 "nbformat": 4,
 "nbformat_minor": 2
}
